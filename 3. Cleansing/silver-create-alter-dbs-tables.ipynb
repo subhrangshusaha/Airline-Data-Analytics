{
 "cells": [
  {
   "cell_type": "code",
   "execution_count": 0,
   "metadata": {
    "application/vnd.databricks.v1+cell": {
     "cellMetadata": {
      "byteLimit": 2048000,
      "rowLimit": 10000
     },
     "inputWidgets": {},
     "nuid": "aa49c857-c8a0-40d3-9e98-24d2d901a9de",
     "showTitle": false,
     "title": ""
    }
   },
   "outputs": [
    {
     "output_type": "execute_result",
     "data": {
      "text/plain": [
       "True"
      ]
     },
     "execution_count": 13,
     "metadata": {},
     "output_type": "execute_result"
    }
   ],
   "source": [
    "dbutils.fs.rm(\"/mnt/airline-data-silver/dbo/Airline_Data_Silver\", True)"
   ]
  },
  {
   "cell_type": "code",
   "execution_count": 0,
   "metadata": {
    "application/vnd.databricks.v1+cell": {
     "cellMetadata": {
      "byteLimit": 2048000,
      "rowLimit": 10000
     },
     "inputWidgets": {},
     "nuid": "b71117af-efc6-4c50-9c6b-d585bcaf84ac",
     "showTitle": false,
     "title": ""
    }
   },
   "outputs": [
    {
     "output_type": "execute_result",
     "data": {
      "text/plain": [
       "DataFrame[]"
      ]
     },
     "execution_count": 14,
     "metadata": {},
     "output_type": "execute_result"
    }
   ],
   "source": [
    "spark.sql('''\n",
    "          drop table if exists silver_dbo_db.airline_data_silver\n",
    "          ''')\n",
    "\n",
    "spark.sql('''\n",
    "          drop database if exists silver_dbo_db;\n",
    "          ''')\n"
   ]
  },
  {
   "cell_type": "code",
   "execution_count": 0,
   "metadata": {
    "application/vnd.databricks.v1+cell": {
     "cellMetadata": {
      "byteLimit": 2048000,
      "rowLimit": 10000
     },
     "inputWidgets": {},
     "nuid": "afa0f04c-027c-4c95-9c89-35761d6d9053",
     "showTitle": false,
     "title": ""
    }
   },
   "outputs": [
    {
     "output_type": "execute_result",
     "data": {
      "text/plain": [
       "DataFrame[]"
      ]
     },
     "execution_count": 15,
     "metadata": {},
     "output_type": "execute_result"
    }
   ],
   "source": [
    "spark.sql('''\n",
    "          create database if not exists silver_dbo_db;\n",
    "          ''')\n",
    "\n",
    "spark.sql('''\n",
    "          create table if not exists silver_dbo_db.Airline_Data_Silver (\n",
    "            PassengerID integer, \n",
    "            FirstName string, \n",
    "            LastName string, \n",
    "            Gender string, \n",
    "            Age integer, \n",
    "            Nationality string, \n",
    "            AirportName string, \n",
    "            Country_Continent_Code string,\n",
    "            AirportCountryCode string, \n",
    "            CountryName string, \n",
    "            AirportContinent string, \n",
    "            Continents string, \n",
    "            DepartureDate date, \n",
    "            ArrivalAirport string, \n",
    "            PilotName string, \n",
    "            FlightStatus string\n",
    "          ) using delta location '/mnt/airline-data-silver/dbo/Airline_Data_Silver'\n",
    "          ''')"
   ]
  },
  {
   "cell_type": "code",
   "execution_count": 0,
   "metadata": {
    "application/vnd.databricks.v1+cell": {
     "cellMetadata": {
      "byteLimit": 2048000,
      "implicitDf": true,
      "rowLimit": 10000
     },
     "inputWidgets": {},
     "nuid": "c9e61fff-34a7-4f1e-9db4-8d85c6055a47",
     "showTitle": false,
     "title": ""
    }
   },
   "outputs": [
    {
     "output_type": "display_data",
     "data": {
      "text/html": [
       "<style scoped>\n",
       "  .table-result-container {\n",
       "    max-height: 300px;\n",
       "    overflow: auto;\n",
       "  }\n",
       "  table, th, td {\n",
       "    border: 1px solid black;\n",
       "    border-collapse: collapse;\n",
       "  }\n",
       "  th, td {\n",
       "    padding: 5px;\n",
       "  }\n",
       "  th {\n",
       "    text-align: left;\n",
       "  }\n",
       "</style><div class='table-result-container'><table class='table-result'><thead style='background-color: white'><tr><th>col_name</th><th>data_type</th><th>comment</th></tr></thead><tbody><tr><td>PassengerID</td><td>int</td><td>null</td></tr><tr><td>FirstName</td><td>string</td><td>null</td></tr><tr><td>LastName</td><td>string</td><td>null</td></tr><tr><td>Gender</td><td>string</td><td>null</td></tr><tr><td>Age</td><td>int</td><td>null</td></tr><tr><td>Nationality</td><td>string</td><td>null</td></tr><tr><td>AirportName</td><td>string</td><td>null</td></tr><tr><td>Country_Continent_Code</td><td>string</td><td>null</td></tr><tr><td>AirportCountryCode</td><td>string</td><td>null</td></tr><tr><td>CountryName</td><td>string</td><td>null</td></tr><tr><td>AirportContinent</td><td>string</td><td>null</td></tr><tr><td>Continents</td><td>string</td><td>null</td></tr><tr><td>DepartureDate</td><td>date</td><td>null</td></tr><tr><td>ArrivalAirport</td><td>string</td><td>null</td></tr><tr><td>PilotName</td><td>string</td><td>null</td></tr><tr><td>FlightStatus</td><td>string</td><td>null</td></tr><tr><td></td><td></td><td></td></tr><tr><td># Detailed Table Information</td><td></td><td></td></tr><tr><td>Catalog</td><td>spark_catalog</td><td></td></tr><tr><td>Database</td><td>silver_dbo_db</td><td></td></tr><tr><td>Table</td><td>Airline_Data_Silver</td><td></td></tr><tr><td>Created Time</td><td>Sat Nov 11 12:49:44 UTC 2023</td><td></td></tr><tr><td>Last Access</td><td>UNKNOWN</td><td></td></tr><tr><td>Created By</td><td>Spark 3.4.1</td><td></td></tr><tr><td>Type</td><td>EXTERNAL</td><td></td></tr><tr><td>Location</td><td>dbfs:/mnt/airline-data-silver/dbo/Airline_Data_Silver</td><td></td></tr><tr><td>Provider</td><td>delta</td><td></td></tr><tr><td>Owner</td><td>root</td><td></td></tr><tr><td>Table Properties</td><td>[delta.minReaderVersion=1,delta.minWriterVersion=2]</td><td></td></tr></tbody></table></div>"
      ]
     },
     "metadata": {
      "application/vnd.databricks.v1+output": {
       "addedWidgets": {},
       "aggData": [],
       "aggError": "",
       "aggOverflow": false,
       "aggSchema": [],
       "aggSeriesLimitReached": false,
       "aggType": "",
       "arguments": {},
       "columnCustomDisplayInfos": {},
       "data": [
        [
         "PassengerID",
         "int",
         null
        ],
        [
         "FirstName",
         "string",
         null
        ],
        [
         "LastName",
         "string",
         null
        ],
        [
         "Gender",
         "string",
         null
        ],
        [
         "Age",
         "int",
         null
        ],
        [
         "Nationality",
         "string",
         null
        ],
        [
         "AirportName",
         "string",
         null
        ],
        [
         "Country_Continent_Code",
         "string",
         null
        ],
        [
         "AirportCountryCode",
         "string",
         null
        ],
        [
         "CountryName",
         "string",
         null
        ],
        [
         "AirportContinent",
         "string",
         null
        ],
        [
         "Continents",
         "string",
         null
        ],
        [
         "DepartureDate",
         "date",
         null
        ],
        [
         "ArrivalAirport",
         "string",
         null
        ],
        [
         "PilotName",
         "string",
         null
        ],
        [
         "FlightStatus",
         "string",
         null
        ],
        [
         "",
         "",
         ""
        ],
        [
         "# Detailed Table Information",
         "",
         ""
        ],
        [
         "Catalog",
         "spark_catalog",
         ""
        ],
        [
         "Database",
         "silver_dbo_db",
         ""
        ],
        [
         "Table",
         "Airline_Data_Silver",
         ""
        ],
        [
         "Created Time",
         "Sat Nov 11 12:49:44 UTC 2023",
         ""
        ],
        [
         "Last Access",
         "UNKNOWN",
         ""
        ],
        [
         "Created By",
         "Spark 3.4.1",
         ""
        ],
        [
         "Type",
         "EXTERNAL",
         ""
        ],
        [
         "Location",
         "dbfs:/mnt/airline-data-silver/dbo/Airline_Data_Silver",
         ""
        ],
        [
         "Provider",
         "delta",
         ""
        ],
        [
         "Owner",
         "root",
         ""
        ],
        [
         "Table Properties",
         "[delta.minReaderVersion=1,delta.minWriterVersion=2]",
         ""
        ]
       ],
       "datasetInfos": [],
       "dbfsResultPath": null,
       "isJsonSchema": true,
       "metadata": {
        "dataframeName": "_sqldf",
        "executionCount": 16
       },
       "overflow": false,
       "plotOptions": {
        "customPlotOptions": {},
        "displayType": "table",
        "pivotAggregation": null,
        "pivotColumns": null,
        "xColumns": null,
        "yColumns": null
       },
       "removedWidgets": [],
       "schema": [
        {
         "metadata": "{\"comment\":\"name of the column\"}",
         "name": "col_name",
         "type": "\"string\""
        },
        {
         "metadata": "{\"comment\":\"data type of the column\"}",
         "name": "data_type",
         "type": "\"string\""
        },
        {
         "metadata": "{\"comment\":\"comment of the column\"}",
         "name": "comment",
         "type": "\"string\""
        }
       ],
       "type": "table"
      }
     },
     "output_type": "display_data"
    }
   ],
   "source": [
    "%sql\n",
    "describe table extended silver_dbo_db.Airline_Data_Silver"
   ]
  },
  {
   "cell_type": "code",
   "execution_count": 0,
   "metadata": {
    "application/vnd.databricks.v1+cell": {
     "cellMetadata": {
      "byteLimit": 2048000,
      "rowLimit": 10000
     },
     "inputWidgets": {},
     "nuid": "22ba792f-1248-406e-b5f3-d84f380304ec",
     "showTitle": false,
     "title": ""
    }
   },
   "outputs": [
    {
     "output_type": "display_data",
     "data": {
      "text/html": [
       "<style scoped>\n",
       "  .table-result-container {\n",
       "    max-height: 300px;\n",
       "    overflow: auto;\n",
       "  }\n",
       "  table, th, td {\n",
       "    border: 1px solid black;\n",
       "    border-collapse: collapse;\n",
       "  }\n",
       "  th, td {\n",
       "    padding: 5px;\n",
       "  }\n",
       "  th {\n",
       "    text-align: left;\n",
       "  }\n",
       "</style><div class='table-result-container'><table class='table-result'><thead style='background-color: white'><tr><th>path</th><th>name</th><th>size</th><th>modificationTime</th></tr></thead><tbody><tr><td>dbfs:/mnt/airline-data-silver/dbo/Airline_Data_Silver/_delta_log/</td><td>_delta_log/</td><td>0</td><td>1699706982000</td></tr></tbody></table></div>"
      ]
     },
     "metadata": {
      "application/vnd.databricks.v1+output": {
       "addedWidgets": {},
       "aggData": [],
       "aggError": "",
       "aggOverflow": false,
       "aggSchema": [],
       "aggSeriesLimitReached": false,
       "aggType": "",
       "arguments": {},
       "columnCustomDisplayInfos": {},
       "data": [
        [
         "dbfs:/mnt/airline-data-silver/dbo/Airline_Data_Silver/_delta_log/",
         "_delta_log/",
         0,
         1699706982000
        ]
       ],
       "datasetInfos": [],
       "dbfsResultPath": null,
       "isJsonSchema": true,
       "metadata": {
        "isDbfsCommandResult": false
       },
       "overflow": false,
       "plotOptions": {
        "customPlotOptions": {},
        "displayType": "table",
        "pivotAggregation": null,
        "pivotColumns": null,
        "xColumns": null,
        "yColumns": null
       },
       "removedWidgets": [],
       "schema": [
        {
         "metadata": "{}",
         "name": "path",
         "type": "\"string\""
        },
        {
         "metadata": "{}",
         "name": "name",
         "type": "\"string\""
        },
        {
         "metadata": "{}",
         "name": "size",
         "type": "\"long\""
        },
        {
         "metadata": "{}",
         "name": "modificationTime",
         "type": "\"long\""
        }
       ],
       "type": "table"
      }
     },
     "output_type": "display_data"
    }
   ],
   "source": [
    "%fs\n",
    "ls \"/mnt/airline-data-silver/dbo/Airline_Data_Silver\""
   ]
  }
 ],
 "metadata": {
  "application/vnd.databricks.v1+notebook": {
   "dashboards": [],
   "language": "python",
   "notebookMetadata": {
    "mostRecentlyExecutedCommandWithImplicitDF": {
     "commandId": 3941648187568057,
     "dataframes": [
      "_sqldf"
     ]
    },
    "pythonIndentUnit": 4
   },
   "notebookName": "silver-create-alter-dbs-tables",
   "widgets": {}
  }
 },
 "nbformat": 4,
 "nbformat_minor": 0
}
