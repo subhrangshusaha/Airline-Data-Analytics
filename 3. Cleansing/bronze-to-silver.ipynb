{
 "cells": [
  {
   "cell_type": "markdown",
   "metadata": {
    "application/vnd.databricks.v1+cell": {
     "cellMetadata": {
      "byteLimit": 2048000,
      "rowLimit": 10000
     },
     "inputWidgets": {},
     "nuid": "31a85580-b844-470e-9294-8ec20a866755",
     "showTitle": false,
     "title": ""
    }
   },
   "source": [
    "## Transformations\n",
    "###### 1. All spaces and underscores from column names should be removed. Eg. \"roll_no\" or \"roll no\" should become \"RollNo\".\n",
    "###### 2. \"Departure Date\" column: Timestamp to Date.\n",
    "###### 3. \"Gender\" column: Single letter Denotion. Eg. 'Male' or 'male' to 'M'.\n",
    "###### 4. Create new column \"Country_Continent_Code\"  as a combination of Airport_Country_Code and Airport_Continent.\n",
    "###### 5. Filter: only keep records which have 1 row for each Passenger_Key"
   ]
  },
  {
   "cell_type": "code",
   "execution_count": 0,
   "metadata": {
    "application/vnd.databricks.v1+cell": {
     "cellMetadata": {
      "byteLimit": 2048000,
      "rowLimit": 10000
     },
     "inputWidgets": {},
     "nuid": "b7e0b192-efaa-403e-9a6c-b8fda64dd18f",
     "showTitle": false,
     "title": ""
    }
   },
   "outputs": [
    {
     "output_type": "execute_result",
     "data": {
      "text/plain": [
       "[FileInfo(path='dbfs:/mnt/airline-data-bronze/dbo/Airline Data/', name='Airline Data/', size=0, modificationTime=1699355276000)]"
      ]
     },
     "execution_count": 1,
     "metadata": {},
     "output_type": "execute_result"
    }
   ],
   "source": [
    "dbutils.fs.ls(\"mnt/airline-data-bronze/dbo/\")"
   ]
  },
  {
   "cell_type": "code",
   "execution_count": 0,
   "metadata": {
    "application/vnd.databricks.v1+cell": {
     "cellMetadata": {
      "byteLimit": 2048000,
      "rowLimit": 10000
     },
     "inputWidgets": {},
     "nuid": "415e18c2-e74c-48a5-9a18-26ef69e3f32a",
     "showTitle": false,
     "title": ""
    }
   },
   "outputs": [
    {
     "output_type": "execute_result",
     "data": {
      "text/plain": [
       "[FileInfo(path='dbfs:/mnt/airline-data-silver/dbo/', name='dbo/', size=0, modificationTime=1699681142000)]"
      ]
     },
     "execution_count": 2,
     "metadata": {},
     "output_type": "execute_result"
    }
   ],
   "source": [
    "dbutils.fs.ls(\"mnt/airline-data-silver/\")"
   ]
  },
  {
   "cell_type": "code",
   "execution_count": 0,
   "metadata": {
    "application/vnd.databricks.v1+cell": {
     "cellMetadata": {
      "byteLimit": 2048000,
      "rowLimit": 10000
     },
     "inputWidgets": {},
     "nuid": "2a973505-4f7e-43f9-a5fc-5bb369a6eb67",
     "showTitle": false,
     "title": ""
    }
   },
   "outputs": [
    {
     "output_type": "execute_result",
     "data": {
      "text/plain": [
       "[FileInfo(path='dbfs:/mnt/airline-data-bronze/dbo/Airline Data/Airline Data.csv', name='Airline Data.csv', size=16876458, modificationTime=1699355453000)]"
      ]
     },
     "execution_count": 3,
     "metadata": {},
     "output_type": "execute_result"
    }
   ],
   "source": [
    "dbutils.fs.ls(\"/mnt/airline-data-bronze/dbo/Airline Data\")"
   ]
  },
  {
   "cell_type": "code",
   "execution_count": 0,
   "metadata": {
    "application/vnd.databricks.v1+cell": {
     "cellMetadata": {
      "byteLimit": 2048000,
      "rowLimit": 10000
     },
     "inputWidgets": {},
     "nuid": "d5a81c12-9b2d-4601-b277-e8bdcaee1b41",
     "showTitle": false,
     "title": ""
    }
   },
   "outputs": [],
   "source": [
    "input_path = \"/mnt/airline-data-bronze/dbo/Airline Data/Airline Data.csv\"\n",
    "\n",
    "airline_df = spark.read.format(\"csv\") \\\n",
    "                        .option(\"header\", True) \\\n",
    "                        .option(\"inferSchema\", True) \\\n",
    "                        .load(input_path)\n",
    "\n",
    "# display(airline_df)"
   ]
  },
  {
   "cell_type": "code",
   "execution_count": 0,
   "metadata": {
    "application/vnd.databricks.v1+cell": {
     "cellMetadata": {
      "byteLimit": 2048000,
      "rowLimit": 10000
     },
     "inputWidgets": {},
     "nuid": "e1857575-2748-4eb0-967c-6627b5607f60",
     "showTitle": false,
     "title": ""
    }
   },
   "outputs": [
    {
     "output_type": "display_data",
     "data": {
      "text/plain": [
       "98619"
      ]
     },
     "metadata": {},
     "output_type": "display_data"
    }
   ],
   "source": [
    "display(airline_df.count())"
   ]
  },
  {
   "cell_type": "code",
   "execution_count": 0,
   "metadata": {
    "application/vnd.databricks.v1+cell": {
     "cellMetadata": {
      "byteLimit": 2048000,
      "rowLimit": 10000
     },
     "inputWidgets": {},
     "nuid": "f239a8fc-7ef8-49ef-9565-e9d221a07683",
     "showTitle": false,
     "title": ""
    }
   },
   "outputs": [],
   "source": [
    "airline_df_1 = airline_df \\\n",
    "    .withColumnRenamed(\"Passenger_ID\",\"PassengerID\") \\\n",
    "    .withColumnRenamed(\"First_Name\",\"FirstName\") \\\n",
    "    .withColumnRenamed(\"Last_Name\",\"LastName\") \\\n",
    "    .withColumnRenamed(\"Gender\",\"Gender\") \\\n",
    "    .withColumnRenamed(\"Age\",\"Age\") \\\n",
    "    .withColumnRenamed(\"Nationality\",\"Nationality\") \\\n",
    "    .withColumnRenamed(\"Airport_Name\",\"AirportName\") \\\n",
    "    .withColumnRenamed(\"Airport_Country_Code\",\"AirportCountryCode\") \\\n",
    "    .withColumnRenamed(\"Country_Name\",\"CountryName\") \\\n",
    "    .withColumnRenamed(\"Airport_Continent\",\"AirportContinent\") \\\n",
    "    .withColumnRenamed(\"Continents\",\"Continents\") \\\n",
    "    .withColumnRenamed(\"Departure_Date\",\"DepartureDate\") \\\n",
    "    .withColumnRenamed(\"Arrival_Airport\",\"ArrivalAirport\") \\\n",
    "    .withColumnRenamed(\"Pilot_Name\",\"PilotName\") \\\n",
    "    .withColumnRenamed(\"Flight_Status\",\"FlightStatus\")\n",
    "\n",
    "# display(airline_df_1)"
   ]
  },
  {
   "cell_type": "code",
   "execution_count": 0,
   "metadata": {
    "application/vnd.databricks.v1+cell": {
     "cellMetadata": {
      "byteLimit": 2048000,
      "rowLimit": 10000
     },
     "inputWidgets": {},
     "nuid": "48ddd196-461e-4863-98bd-a1787c375d08",
     "showTitle": false,
     "title": ""
    }
   },
   "outputs": [],
   "source": [
    "from pyspark.sql.functions import to_date, col\n",
    "\n",
    "airline_df_2 = airline_df_1 \\\n",
    "                    .withColumn(\"DepartureDate\", to_date(col(\"DepartureDate\"), 'dd-MM-yyyy'))\n",
    "\n",
    "# display(airline_df_2)"
   ]
  },
  {
   "cell_type": "code",
   "execution_count": 0,
   "metadata": {
    "application/vnd.databricks.v1+cell": {
     "cellMetadata": {
      "byteLimit": 2048000,
      "rowLimit": 10000
     },
     "inputWidgets": {},
     "nuid": "0448d78d-cefe-4033-8a39-b7fc6973f776",
     "showTitle": false,
     "title": ""
    }
   },
   "outputs": [],
   "source": [
    "airline_df_2.createOrReplaceTempView(\"airline_trans_2\")"
   ]
  },
  {
   "cell_type": "code",
   "execution_count": 0,
   "metadata": {
    "application/vnd.databricks.v1+cell": {
     "cellMetadata": {
      "byteLimit": 2048000,
      "implicitDf": true,
      "rowLimit": 10000
     },
     "inputWidgets": {},
     "nuid": "75836c2f-7e5e-4d5c-a61c-cb22c5451f16",
     "showTitle": false,
     "title": ""
    }
   },
   "outputs": [
    {
     "output_type": "display_data",
     "data": {
      "text/html": [
       "<style scoped>\n",
       "  .table-result-container {\n",
       "    max-height: 300px;\n",
       "    overflow: auto;\n",
       "  }\n",
       "  table, th, td {\n",
       "    border: 1px solid black;\n",
       "    border-collapse: collapse;\n",
       "  }\n",
       "  th, td {\n",
       "    padding: 5px;\n",
       "  }\n",
       "  th {\n",
       "    text-align: left;\n",
       "  }\n",
       "</style><div class='table-result-container'><table class='table-result'><thead style='background-color: white'><tr><th>num_affected_rows</th><th>num_inserted_rows</th></tr></thead><tbody></tbody></table></div>"
      ]
     },
     "metadata": {
      "application/vnd.databricks.v1+output": {
       "addedWidgets": {},
       "aggData": [],
       "aggError": "",
       "aggOverflow": false,
       "aggSchema": [],
       "aggSeriesLimitReached": false,
       "aggType": "",
       "arguments": {},
       "columnCustomDisplayInfos": {},
       "data": [],
       "datasetInfos": [],
       "dbfsResultPath": null,
       "isJsonSchema": true,
       "metadata": {
        "dataframeName": "_sqldf",
        "executionCount": 53
       },
       "overflow": false,
       "plotOptions": {
        "customPlotOptions": {},
        "displayType": "table",
        "pivotAggregation": null,
        "pivotColumns": null,
        "xColumns": null,
        "yColumns": null
       },
       "removedWidgets": [],
       "schema": [
        {
         "metadata": "{}",
         "name": "num_affected_rows",
         "type": "\"long\""
        },
        {
         "metadata": "{}",
         "name": "num_inserted_rows",
         "type": "\"long\""
        }
       ],
       "type": "table"
      }
     },
     "output_type": "display_data"
    }
   ],
   "source": [
    "%sql\n",
    "drop table if exists airline_trans_3;\n",
    "\n",
    "create table airline_trans_3 as\n",
    "select PassengerID, FirstName, LastName, substring(Gender,0,1) as Gender, Age, Nationality, AirportName, AirportCountryCode, CountryName, AirportContinent, Continents, DepartureDate, ArrivalAirport, PilotName, FlightStatus\n",
    "from airline_trans_2;"
   ]
  },
  {
   "cell_type": "code",
   "execution_count": 0,
   "metadata": {
    "application/vnd.databricks.v1+cell": {
     "cellMetadata": {
      "byteLimit": 2048000,
      "implicitDf": true,
      "rowLimit": 10000
     },
     "inputWidgets": {},
     "nuid": "ed36aad5-cf05-4d5b-9e57-1b8cb9cf63db",
     "showTitle": false,
     "title": ""
    }
   },
   "outputs": [
    {
     "output_type": "display_data",
     "data": {
      "text/html": [
       "<style scoped>\n",
       "  .table-result-container {\n",
       "    max-height: 300px;\n",
       "    overflow: auto;\n",
       "  }\n",
       "  table, th, td {\n",
       "    border: 1px solid black;\n",
       "    border-collapse: collapse;\n",
       "  }\n",
       "  th, td {\n",
       "    padding: 5px;\n",
       "  }\n",
       "  th {\n",
       "    text-align: left;\n",
       "  }\n",
       "</style><div class='table-result-container'><table class='table-result'><thead style='background-color: white'><tr><th>num_affected_rows</th><th>num_inserted_rows</th></tr></thead><tbody></tbody></table></div>"
      ]
     },
     "metadata": {
      "application/vnd.databricks.v1+output": {
       "addedWidgets": {},
       "aggData": [],
       "aggError": "",
       "aggOverflow": false,
       "aggSchema": [],
       "aggSeriesLimitReached": false,
       "aggType": "",
       "arguments": {},
       "columnCustomDisplayInfos": {},
       "data": [],
       "datasetInfos": [],
       "dbfsResultPath": null,
       "isJsonSchema": true,
       "metadata": {
        "dataframeName": "_sqldf",
        "executionCount": 54
       },
       "overflow": false,
       "plotOptions": {
        "customPlotOptions": {},
        "displayType": "table",
        "pivotAggregation": null,
        "pivotColumns": null,
        "xColumns": null,
        "yColumns": null
       },
       "removedWidgets": [],
       "schema": [
        {
         "metadata": "{}",
         "name": "num_affected_rows",
         "type": "\"long\""
        },
        {
         "metadata": "{}",
         "name": "num_inserted_rows",
         "type": "\"long\""
        }
       ],
       "type": "table"
      }
     },
     "output_type": "display_data"
    }
   ],
   "source": [
    "%sql\n",
    "drop table if exists airline_trans_4;\n",
    "\n",
    "create table airline_trans_4 as\n",
    "select AirportCountryCode||'-'||AirportContinent as Country_Continent_Code, *\n",
    "from airline_trans_3;\n"
   ]
  },
  {
   "cell_type": "code",
   "execution_count": 0,
   "metadata": {
    "application/vnd.databricks.v1+cell": {
     "cellMetadata": {
      "byteLimit": 2048000,
      "implicitDf": true,
      "rowLimit": 10000
     },
     "inputWidgets": {},
     "nuid": "58696c69-e7d8-489c-8664-b6f9d65a0c40",
     "showTitle": false,
     "title": ""
    }
   },
   "outputs": [
    {
     "output_type": "display_data",
     "data": {
      "text/html": [
       "<style scoped>\n",
       "  .table-result-container {\n",
       "    max-height: 300px;\n",
       "    overflow: auto;\n",
       "  }\n",
       "  table, th, td {\n",
       "    border: 1px solid black;\n",
       "    border-collapse: collapse;\n",
       "  }\n",
       "  th, td {\n",
       "    padding: 5px;\n",
       "  }\n",
       "  th {\n",
       "    text-align: left;\n",
       "  }\n",
       "</style><div class='table-result-container'><table class='table-result'><thead style='background-color: white'><tr><th>num_affected_rows</th><th>num_inserted_rows</th></tr></thead><tbody></tbody></table></div>"
      ]
     },
     "metadata": {
      "application/vnd.databricks.v1+output": {
       "addedWidgets": {},
       "aggData": [],
       "aggError": "",
       "aggOverflow": false,
       "aggSchema": [],
       "aggSeriesLimitReached": false,
       "aggType": "",
       "arguments": {},
       "columnCustomDisplayInfos": {},
       "data": [],
       "datasetInfos": [],
       "dbfsResultPath": null,
       "isJsonSchema": true,
       "metadata": {
        "dataframeName": "_sqldf",
        "executionCount": 55
       },
       "overflow": false,
       "plotOptions": {
        "customPlotOptions": {},
        "displayType": "table",
        "pivotAggregation": null,
        "pivotColumns": null,
        "xColumns": null,
        "yColumns": null
       },
       "removedWidgets": [],
       "schema": [
        {
         "metadata": "{}",
         "name": "num_affected_rows",
         "type": "\"long\""
        },
        {
         "metadata": "{}",
         "name": "num_inserted_rows",
         "type": "\"long\""
        }
       ],
       "type": "table"
      }
     },
     "output_type": "display_data"
    }
   ],
   "source": [
    "%sql\n",
    "drop table if exists airline_trans_5;\n",
    "\n",
    "create table airline_trans_5 as\n",
    "select * \n",
    "from (\n",
    "  select count(*) over(partition by PassengerID) as cnt, *\n",
    "  from airline_trans_4\n",
    ")\n",
    "where cnt = 1\n",
    "order by PassengerID;"
   ]
  },
  {
   "cell_type": "code",
   "execution_count": 0,
   "metadata": {
    "application/vnd.databricks.v1+cell": {
     "cellMetadata": {
      "byteLimit": 2048000,
      "implicitDf": true,
      "rowLimit": 10000
     },
     "inputWidgets": {},
     "nuid": "f8a1f66e-5966-465b-bbbf-4363b74788e2",
     "showTitle": true,
     "title": "SCD 1 Insert into Silver Layer Table"
    }
   },
   "outputs": [
    {
     "output_type": "display_data",
     "data": {
      "text/html": [
       "<style scoped>\n",
       "  .table-result-container {\n",
       "    max-height: 300px;\n",
       "    overflow: auto;\n",
       "  }\n",
       "  table, th, td {\n",
       "    border: 1px solid black;\n",
       "    border-collapse: collapse;\n",
       "  }\n",
       "  th, td {\n",
       "    padding: 5px;\n",
       "  }\n",
       "  th {\n",
       "    text-align: left;\n",
       "  }\n",
       "</style><div class='table-result-container'><table class='table-result'><thead style='background-color: white'><tr><th>num_affected_rows</th><th>num_updated_rows</th><th>num_deleted_rows</th><th>num_inserted_rows</th></tr></thead><tbody><tr><td>32876</td><td>0</td><td>0</td><td>32876</td></tr></tbody></table></div>"
      ]
     },
     "metadata": {
      "application/vnd.databricks.v1+output": {
       "addedWidgets": {},
       "aggData": [],
       "aggError": "",
       "aggOverflow": false,
       "aggSchema": [],
       "aggSeriesLimitReached": false,
       "aggType": "",
       "arguments": {},
       "columnCustomDisplayInfos": {},
       "data": [
        [
         32876,
         0,
         0,
         32876
        ]
       ],
       "datasetInfos": [],
       "dbfsResultPath": null,
       "isJsonSchema": true,
       "metadata": {
        "dataframeName": "_sqldf",
        "executionCount": 61
       },
       "overflow": false,
       "plotOptions": {
        "customPlotOptions": {},
        "displayType": "table",
        "pivotAggregation": null,
        "pivotColumns": null,
        "xColumns": null,
        "yColumns": null
       },
       "removedWidgets": [],
       "schema": [
        {
         "metadata": "{}",
         "name": "num_affected_rows",
         "type": "\"long\""
        },
        {
         "metadata": "{}",
         "name": "num_updated_rows",
         "type": "\"long\""
        },
        {
         "metadata": "{}",
         "name": "num_deleted_rows",
         "type": "\"long\""
        },
        {
         "metadata": "{}",
         "name": "num_inserted_rows",
         "type": "\"long\""
        }
       ],
       "type": "table"
      }
     },
     "output_type": "display_data"
    }
   ],
   "source": [
    "%sql\n",
    "\n",
    "merge into silver_dbo_db.airline_data_silver as t\n",
    "using airline_trans_5 as s\n",
    "    on t.PassengerID = s.PassengerID\n",
    "when matched /*and t.Start_Date < s.Start_Date*/ then\n",
    "    update set\n",
    "      t.FirstName = s.FirstName,\n",
    "      t.LastName = s.LastName,\n",
    "      t.Gender = s.Gender,\n",
    "      t.Age = s.Age,\n",
    "      t.Nationality = s.Nationality,\n",
    "      t.AirportName = s.AirportName,\n",
    "      t.Country_Continent_Code = s.Country_Continent_Code, \n",
    "      t.AirportCountryCode = s.AirportCountryCode,\n",
    "      t.CountryName = s.CountryName,\n",
    "      t.AirportContinent = s.AirportContinent,\n",
    "      t.Continents = s.Continents,\n",
    "      t.DepartureDate = s.DepartureDate,\n",
    "      t.ArrivalAirport = s.ArrivalAirport,\n",
    "      t.PilotName = s.PilotName,\n",
    "      t.FlightStatus = s.FlightStatus\n",
    "when not matched by target then\n",
    "    insert (PassengerID, FirstName, LastName, Gender, Age, Nationality, AirportName, Country_Continent_Code, AirportCountryCode, CountryName, AirportContinent, Continents, DepartureDate, ArrivalAirport, PilotName, FlightStatus)\n",
    "    values (s.PassengerID , s.FirstName, s.LastName, s.Gender, s.Age, s.Nationality, s.AirportName, s.Country_Continent_Code, s.AirportCountryCode, s.CountryName, s.AirportContinent, s.Continents, s.DepartureDate, s.ArrivalAirport, s.PilotName, s.FlightStatus)\n"
   ]
  }
 ],
 "metadata": {
  "application/vnd.databricks.v1+notebook": {
   "dashboards": [],
   "language": "python",
   "notebookMetadata": {
    "mostRecentlyExecutedCommandWithImplicitDF": {
     "commandId": 3941648187568054,
     "dataframes": [
      "_sqldf"
     ]
    },
    "pythonIndentUnit": 4
   },
   "notebookName": "bronze-to-silver",
   "widgets": {}
  }
 },
 "nbformat": 4,
 "nbformat_minor": 0
}
